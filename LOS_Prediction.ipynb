{
 "cells": [
  {
   "cell_type": "markdown",
   "metadata": {},
   "source": [
    "# LOS Prediction\n",
    "\n",
    "For CIHI insite, see this link: https://tableau.albertahealthservices.ca/#/workbooks/28259/views. It's based on a few items: \n",
    "\n",
    "    Comorbidity Level (COMORB_LVL): 0, 1, 2, 3, 4, 8\n",
    "    Flagged Intervention Status (AHS_IP_PROJ_OPT_MISC_W_LLOYD.CIHI_FLG_INTERVENTION_STATUS): \n",
    "        FI Group 1: G, Q\n",
    "        FI Group 2: E, H, J, M, N\n",
    "        FI Group 3: A, B, C, D, F, I, K, L, O, P\n",
    "    Intervention Event(AHS_IP_DOC_DX_INTVN_W_LLOYD.EVENT_CNT): 1 event, 2 events, 3+ events, 8 NA\n",
    "    OOH status(PROCOOH1): Yes/No\n",
    "    MCC: \n",
    "    CMG: \n",
    "    Age Category: For adult, 0, 1-7 Yrs, 8-17, 18-59, 60-79, 80+ Yrs\n"
   ]
  },
  {
   "cell_type": "markdown",
   "metadata": {},
   "source": [
    "# 1. Read Data"
   ]
  },
  {
   "cell_type": "code",
   "execution_count": 199,
   "metadata": {},
   "outputs": [],
   "source": [
    "import pandas as pd\n",
    "import numpy as np\n",
    "import os\n"
   ]
  },
  {
   "cell_type": "code",
   "execution_count": 200,
   "metadata": {},
   "outputs": [
    {
     "data": {
      "text/html": [
       "<div>\n",
       "<style scoped>\n",
       "    .dataframe tbody tr th:only-of-type {\n",
       "        vertical-align: middle;\n",
       "    }\n",
       "\n",
       "    .dataframe tbody tr th {\n",
       "        vertical-align: top;\n",
       "    }\n",
       "\n",
       "    .dataframe thead th {\n",
       "        text-align: right;\n",
       "    }\n",
       "</style>\n",
       "<table border=\"1\" class=\"dataframe\">\n",
       "  <thead>\n",
       "    <tr style=\"text-align: right;\">\n",
       "      <th></th>\n",
       "      <th>INST</th>\n",
       "      <th>ADMITCAT</th>\n",
       "      <th>PROCCODE1</th>\n",
       "      <th>PROCOOH1</th>\n",
       "      <th>AGE_ADMIT</th>\n",
       "      <th>MCC</th>\n",
       "      <th>CMG</th>\n",
       "      <th>CMG_AGEGRP</th>\n",
       "      <th>COMORB_LVL</th>\n",
       "      <th>EVENT_CNT</th>\n",
       "      <th>ELOS</th>\n",
       "      <th>RIW</th>\n",
       "      <th>ACUTE_DAYS</th>\n",
       "      <th>SEQNUM</th>\n",
       "      <th>CIHI_FLG_INTERVENTION_STATUS</th>\n",
       "    </tr>\n",
       "  </thead>\n",
       "  <tbody>\n",
       "    <tr>\n",
       "      <th>0</th>\n",
       "      <td>80044</td>\n",
       "      <td>U</td>\n",
       "      <td>NaN</td>\n",
       "      <td>NaN</td>\n",
       "      <td>52</td>\n",
       "      <td>5</td>\n",
       "      <td>196</td>\n",
       "      <td>R</td>\n",
       "      <td>4</td>\n",
       "      <td>8</td>\n",
       "      <td>14.2</td>\n",
       "      <td>2.6451</td>\n",
       "      <td>15</td>\n",
       "      <td>8004420201205050</td>\n",
       "      <td>0.0</td>\n",
       "    </tr>\n",
       "    <tr>\n",
       "      <th>1</th>\n",
       "      <td>80043</td>\n",
       "      <td>U</td>\n",
       "      <td>5MD60AA</td>\n",
       "      <td>NaN</td>\n",
       "      <td>32</td>\n",
       "      <td>13</td>\n",
       "      <td>561</td>\n",
       "      <td>R</td>\n",
       "      <td>2</td>\n",
       "      <td>1</td>\n",
       "      <td>4.6</td>\n",
       "      <td>1.4110</td>\n",
       "      <td>3</td>\n",
       "      <td>8004320201228020</td>\n",
       "      <td>0.0</td>\n",
       "    </tr>\n",
       "    <tr>\n",
       "      <th>2</th>\n",
       "      <td>80043</td>\n",
       "      <td>L</td>\n",
       "      <td>5MD50AA</td>\n",
       "      <td>NaN</td>\n",
       "      <td>24</td>\n",
       "      <td>13</td>\n",
       "      <td>563</td>\n",
       "      <td>R</td>\n",
       "      <td>0</td>\n",
       "      <td>8</td>\n",
       "      <td>1.6</td>\n",
       "      <td>0.3963</td>\n",
       "      <td>1</td>\n",
       "      <td>8004320201228010</td>\n",
       "      <td>0.0</td>\n",
       "    </tr>\n",
       "  </tbody>\n",
       "</table>\n",
       "</div>"
      ],
      "text/plain": [
       "    INST ADMITCAT PROCCODE1 PROCOOH1  AGE_ADMIT  MCC  CMG CMG_AGEGRP  \\\n",
       "0  80044        U       NaN      NaN         52    5  196          R   \n",
       "1  80043        U   5MD60AA      NaN         32   13  561          R   \n",
       "2  80043        L   5MD50AA      NaN         24   13  563          R   \n",
       "\n",
       "   COMORB_LVL  EVENT_CNT  ELOS     RIW  ACUTE_DAYS            SEQNUM  \\\n",
       "0           4          8  14.2  2.6451          15  8004420201205050   \n",
       "1           2          1   4.6  1.4110           3  8004320201228020   \n",
       "2           0          8   1.6  0.3963           1  8004320201228010   \n",
       "\n",
       "   CIHI_FLG_INTERVENTION_STATUS  \n",
       "0                           0.0  \n",
       "1                           0.0  \n",
       "2                           0.0  "
      ]
     },
     "metadata": {},
     "output_type": "display_data"
    }
   ],
   "source": [
    "import os\n",
    "from os.path import join\n",
    "\n",
    "joined_path = join(os.getcwd(), \"elos_breakdown_lc.xlsx\")\n",
    "df_original = pd.read_excel(joined_path, sheet_name = 'data')\n",
    "display(df_original.head(3))"
   ]
  },
  {
   "cell_type": "markdown",
   "metadata": {},
   "source": [
    "# 2. Exam Data"
   ]
  },
  {
   "cell_type": "code",
   "execution_count": 201,
   "metadata": {},
   "outputs": [
    {
     "data": {
      "text/html": [
       "<div>\n",
       "<style scoped>\n",
       "    .dataframe tbody tr th:only-of-type {\n",
       "        vertical-align: middle;\n",
       "    }\n",
       "\n",
       "    .dataframe tbody tr th {\n",
       "        vertical-align: top;\n",
       "    }\n",
       "\n",
       "    .dataframe thead th {\n",
       "        text-align: right;\n",
       "    }\n",
       "</style>\n",
       "<table border=\"1\" class=\"dataframe\">\n",
       "  <thead>\n",
       "    <tr style=\"text-align: right;\">\n",
       "      <th></th>\n",
       "      <th>INST</th>\n",
       "      <th>AGE_ADMIT</th>\n",
       "      <th>MCC</th>\n",
       "      <th>CMG</th>\n",
       "      <th>COMORB_LVL</th>\n",
       "      <th>EVENT_CNT</th>\n",
       "      <th>ELOS</th>\n",
       "      <th>RIW</th>\n",
       "      <th>ACUTE_DAYS</th>\n",
       "      <th>SEQNUM</th>\n",
       "      <th>CIHI_FLG_INTERVENTION_STATUS</th>\n",
       "    </tr>\n",
       "  </thead>\n",
       "  <tbody>\n",
       "    <tr>\n",
       "      <th>count</th>\n",
       "      <td>95845.000000</td>\n",
       "      <td>95845.000000</td>\n",
       "      <td>95845.000000</td>\n",
       "      <td>95845.000000</td>\n",
       "      <td>95845.000000</td>\n",
       "      <td>95845.000000</td>\n",
       "      <td>95845.000000</td>\n",
       "      <td>95845.000000</td>\n",
       "      <td>95845.000000</td>\n",
       "      <td>9.584500e+04</td>\n",
       "      <td>77530.000000</td>\n",
       "    </tr>\n",
       "    <tr>\n",
       "      <th>mean</th>\n",
       "      <td>80043.373989</td>\n",
       "      <td>49.905086</td>\n",
       "      <td>10.495550</td>\n",
       "      <td>429.192290</td>\n",
       "      <td>1.202869</td>\n",
       "      <td>5.485273</td>\n",
       "      <td>6.250778</td>\n",
       "      <td>1.796436</td>\n",
       "      <td>6.657812</td>\n",
       "      <td>8.004358e+15</td>\n",
       "      <td>0.498929</td>\n",
       "    </tr>\n",
       "    <tr>\n",
       "      <th>std</th>\n",
       "      <td>0.483863</td>\n",
       "      <td>26.490650</td>\n",
       "      <td>6.051088</td>\n",
       "      <td>237.518279</td>\n",
       "      <td>2.088490</td>\n",
       "      <td>3.330006</td>\n",
       "      <td>8.354720</td>\n",
       "      <td>4.137360</td>\n",
       "      <td>13.402027</td>\n",
       "      <td>4.838641e+10</td>\n",
       "      <td>1.288421</td>\n",
       "    </tr>\n",
       "    <tr>\n",
       "      <th>min</th>\n",
       "      <td>80043.000000</td>\n",
       "      <td>0.000000</td>\n",
       "      <td>1.000000</td>\n",
       "      <td>3.000000</td>\n",
       "      <td>0.000000</td>\n",
       "      <td>1.000000</td>\n",
       "      <td>0.000000</td>\n",
       "      <td>0.000000</td>\n",
       "      <td>0.000000</td>\n",
       "      <td>8.004320e+15</td>\n",
       "      <td>0.000000</td>\n",
       "    </tr>\n",
       "    <tr>\n",
       "      <th>25%</th>\n",
       "      <td>80043.000000</td>\n",
       "      <td>32.000000</td>\n",
       "      <td>5.000000</td>\n",
       "      <td>209.000000</td>\n",
       "      <td>0.000000</td>\n",
       "      <td>1.000000</td>\n",
       "      <td>2.100000</td>\n",
       "      <td>0.503500</td>\n",
       "      <td>1.000000</td>\n",
       "      <td>8.004320e+15</td>\n",
       "      <td>0.000000</td>\n",
       "    </tr>\n",
       "    <tr>\n",
       "      <th>50%</th>\n",
       "      <td>80043.000000</td>\n",
       "      <td>54.000000</td>\n",
       "      <td>11.000000</td>\n",
       "      <td>460.000000</td>\n",
       "      <td>0.000000</td>\n",
       "      <td>8.000000</td>\n",
       "      <td>3.600000</td>\n",
       "      <td>0.896600</td>\n",
       "      <td>3.000000</td>\n",
       "      <td>8.004320e+15</td>\n",
       "      <td>0.000000</td>\n",
       "    </tr>\n",
       "    <tr>\n",
       "      <th>75%</th>\n",
       "      <td>80044.000000</td>\n",
       "      <td>70.000000</td>\n",
       "      <td>14.000000</td>\n",
       "      <td>595.000000</td>\n",
       "      <td>2.000000</td>\n",
       "      <td>8.000000</td>\n",
       "      <td>6.900000</td>\n",
       "      <td>1.666300</td>\n",
       "      <td>7.000000</td>\n",
       "      <td>8.004420e+15</td>\n",
       "      <td>0.000000</td>\n",
       "    </tr>\n",
       "    <tr>\n",
       "      <th>max</th>\n",
       "      <td>80044.000000</td>\n",
       "      <td>999.000000</td>\n",
       "      <td>99.000000</td>\n",
       "      <td>999.000000</td>\n",
       "      <td>8.000000</td>\n",
       "      <td>8.000000</td>\n",
       "      <td>100.000000</td>\n",
       "      <td>235.500000</td>\n",
       "      <td>625.000000</td>\n",
       "      <td>8.004420e+15</td>\n",
       "      <td>8.000000</td>\n",
       "    </tr>\n",
       "  </tbody>\n",
       "</table>\n",
       "</div>"
      ],
      "text/plain": [
       "               INST     AGE_ADMIT           MCC           CMG    COMORB_LVL  \\\n",
       "count  95845.000000  95845.000000  95845.000000  95845.000000  95845.000000   \n",
       "mean   80043.373989     49.905086     10.495550    429.192290      1.202869   \n",
       "std        0.483863     26.490650      6.051088    237.518279      2.088490   \n",
       "min    80043.000000      0.000000      1.000000      3.000000      0.000000   \n",
       "25%    80043.000000     32.000000      5.000000    209.000000      0.000000   \n",
       "50%    80043.000000     54.000000     11.000000    460.000000      0.000000   \n",
       "75%    80044.000000     70.000000     14.000000    595.000000      2.000000   \n",
       "max    80044.000000    999.000000     99.000000    999.000000      8.000000   \n",
       "\n",
       "          EVENT_CNT          ELOS           RIW    ACUTE_DAYS        SEQNUM  \\\n",
       "count  95845.000000  95845.000000  95845.000000  95845.000000  9.584500e+04   \n",
       "mean       5.485273      6.250778      1.796436      6.657812  8.004358e+15   \n",
       "std        3.330006      8.354720      4.137360     13.402027  4.838641e+10   \n",
       "min        1.000000      0.000000      0.000000      0.000000  8.004320e+15   \n",
       "25%        1.000000      2.100000      0.503500      1.000000  8.004320e+15   \n",
       "50%        8.000000      3.600000      0.896600      3.000000  8.004320e+15   \n",
       "75%        8.000000      6.900000      1.666300      7.000000  8.004420e+15   \n",
       "max        8.000000    100.000000    235.500000    625.000000  8.004420e+15   \n",
       "\n",
       "       CIHI_FLG_INTERVENTION_STATUS  \n",
       "count                  77530.000000  \n",
       "mean                       0.498929  \n",
       "std                        1.288421  \n",
       "min                        0.000000  \n",
       "25%                        0.000000  \n",
       "50%                        0.000000  \n",
       "75%                        0.000000  \n",
       "max                        8.000000  "
      ]
     },
     "metadata": {},
     "output_type": "display_data"
    },
    {
     "name": "stdout",
     "output_type": "stream",
     "text": [
      "INST                              int64\n",
      "ADMITCAT                         object\n",
      "PROCCODE1                        object\n",
      "PROCOOH1                         object\n",
      "AGE_ADMIT                         int64\n",
      "MCC                               int64\n",
      "CMG                               int64\n",
      "CMG_AGEGRP                       object\n",
      "COMORB_LVL                        int64\n",
      "EVENT_CNT                         int64\n",
      "ELOS                            float64\n",
      "RIW                             float64\n",
      "ACUTE_DAYS                        int64\n",
      "SEQNUM                            int64\n",
      "CIHI_FLG_INTERVENTION_STATUS    float64\n",
      "dtype: object\n",
      "-----\n"
     ]
    },
    {
     "data": {
      "text/plain": [
       "int64      8\n",
       "object     4\n",
       "float64    3\n",
       "dtype: int64"
      ]
     },
     "metadata": {},
     "output_type": "display_data"
    }
   ],
   "source": [
    "display(df_original.describe()) #process all the number columns\n",
    "print(df_original.dtypes) #See each column's data type\n",
    "print('-----')\n",
    "display(df_original.dtypes.value_counts())"
   ]
  },
  {
   "cell_type": "markdown",
   "metadata": {},
   "source": [
    "### Data Process Needed\n",
    "\n",
    "Rows to be processed\n",
    "\n",
    "    ELOS: delete values >=90\n",
    "    \n",
    "Columns to be deleted\n",
    "\n",
    "    SEQNUM\n",
    "    ACUTE_DAYS                        \n",
    "    INST (maybe)\n",
    "    \n",
    "What should have been object? \n",
    "\n",
    "    INST (if not deleted)\n",
    "    MCC\n",
    "    CMG\n",
    "    COMORB_LVL\n",
    "    CIHI_FLG_INTERVENTION_STATUS\n",
    "    EVENT_CNT\n",
    "   \n",
    "    \n",
    "Column to be processed\n",
    "\n",
    "    PROCCODE1 - take the first character only (maybe not)\n",
    "    AGE_ADMIT - convert to numeric then into category\n",
    "    PROCOOH1 - convert to integer with values of 1 or 0\n",
    "    \n",
    "    \n",
    "    "
   ]
  },
  {
   "cell_type": "code",
   "execution_count": 202,
   "metadata": {},
   "outputs": [
    {
     "name": "stdout",
     "output_type": "stream",
     "text": [
      "ELOS                            float64\n",
      "ADMITCAT                         object\n",
      "PROCOOH1                          Int64\n",
      "MCC                              object\n",
      "CMG                              object\n",
      "CMG_AGEGRP                       object\n",
      "COMORB_LVL                       object\n",
      "EVENT_CNT                        object\n",
      "RIW                             float64\n",
      "CIHI_FLG_INTERVENTION_STATUS     object\n",
      "AGE_CAT                          object\n",
      "dtype: object\n"
     ]
    }
   ],
   "source": [
    "print(df.dtypes)"
   ]
  },
  {
   "cell_type": "code",
   "execution_count": 203,
   "metadata": {},
   "outputs": [
    {
     "data": {
      "text/html": [
       "<div>\n",
       "<style scoped>\n",
       "    .dataframe tbody tr th:only-of-type {\n",
       "        vertical-align: middle;\n",
       "    }\n",
       "\n",
       "    .dataframe tbody tr th {\n",
       "        vertical-align: top;\n",
       "    }\n",
       "\n",
       "    .dataframe thead th {\n",
       "        text-align: right;\n",
       "    }\n",
       "</style>\n",
       "<table border=\"1\" class=\"dataframe\">\n",
       "  <thead>\n",
       "    <tr style=\"text-align: right;\">\n",
       "      <th></th>\n",
       "      <th>ELOS</th>\n",
       "      <th>ADMITCAT</th>\n",
       "      <th>PROCOOH1</th>\n",
       "      <th>MCC</th>\n",
       "      <th>CMG</th>\n",
       "      <th>CMG_AGEGRP</th>\n",
       "      <th>COMORB_LVL</th>\n",
       "      <th>EVENT_CNT</th>\n",
       "      <th>RIW</th>\n",
       "      <th>CIHI_FLG_INTERVENTION_STATUS</th>\n",
       "      <th>AGE_CAT</th>\n",
       "    </tr>\n",
       "  </thead>\n",
       "  <tbody>\n",
       "    <tr>\n",
       "      <th>0</th>\n",
       "      <td>14.2</td>\n",
       "      <td>U</td>\n",
       "      <td>0</td>\n",
       "      <td>5</td>\n",
       "      <td>196</td>\n",
       "      <td>R</td>\n",
       "      <td>4</td>\n",
       "      <td>8</td>\n",
       "      <td>2.6451</td>\n",
       "      <td>0</td>\n",
       "      <td>18-59</td>\n",
       "    </tr>\n",
       "    <tr>\n",
       "      <th>1</th>\n",
       "      <td>4.6</td>\n",
       "      <td>U</td>\n",
       "      <td>0</td>\n",
       "      <td>13</td>\n",
       "      <td>561</td>\n",
       "      <td>R</td>\n",
       "      <td>2</td>\n",
       "      <td>1</td>\n",
       "      <td>1.4110</td>\n",
       "      <td>0</td>\n",
       "      <td>18-59</td>\n",
       "    </tr>\n",
       "    <tr>\n",
       "      <th>2</th>\n",
       "      <td>1.6</td>\n",
       "      <td>L</td>\n",
       "      <td>0</td>\n",
       "      <td>13</td>\n",
       "      <td>563</td>\n",
       "      <td>R</td>\n",
       "      <td>0</td>\n",
       "      <td>8</td>\n",
       "      <td>0.3963</td>\n",
       "      <td>0</td>\n",
       "      <td>18-59</td>\n",
       "    </tr>\n",
       "  </tbody>\n",
       "</table>\n",
       "</div>"
      ],
      "text/plain": [
       "   ELOS ADMITCAT  PROCOOH1 MCC  CMG CMG_AGEGRP COMORB_LVL EVENT_CNT     RIW  \\\n",
       "0  14.2        U         0   5  196          R          4         8  2.6451   \n",
       "1   4.6        U         0  13  561          R          2         1  1.4110   \n",
       "2   1.6        L         0  13  563          R          0         8  0.3963   \n",
       "\n",
       "  CIHI_FLG_INTERVENTION_STATUS AGE_CAT  \n",
       "0                            0   18-59  \n",
       "1                            0   18-59  \n",
       "2                            0   18-59  "
      ]
     },
     "execution_count": 203,
     "metadata": {},
     "output_type": "execute_result"
    }
   ],
   "source": [
    "df= df_original.copy()\n",
    "df = df[ (df['ELOS'] < 90) ] #filter data by value\n",
    "df = df[(df['AGE_ADMIT']>=1)]                        \n",
    "df = df.drop(['SEQNUM', 'ACUTE_DAYS', 'INST','PROCCODE1'], axis=1)\n",
    "\n",
    "\n",
    "def age_group_func(x): \n",
    "    if x >=80: \n",
    "        result = '80+'\n",
    "    elif x>=60: \n",
    "        result = '60-79'\n",
    "    elif x>=18: \n",
    "        result = '18-59'\n",
    "    elif x>=8: \n",
    "        result = '8-17'\n",
    "    else: \n",
    "        result = '1-7'\n",
    "    return result\n",
    "\n",
    "df['AGE_CAT'] = df.apply(lambda row: age_group_func(row[\"AGE_ADMIT\"]),axis=1)\n",
    "df = df.drop(['AGE_ADMIT'], axis=1)\n",
    "\n",
    "def procooh_convt_func(x): \n",
    "    if x == 'Yes': \n",
    "        result = 1\n",
    "    else: \n",
    "        result = 0\n",
    "    return result\n",
    "\n",
    "df['PROCOOH1'] = df.apply(lambda row: procooh_convt_func(row[\"PROCOOH1\"]),axis=1).astype('Int64')\n",
    "\n",
    "df['CIHI_FLG_INTERVENTION_STATUS'] = df['CIHI_FLG_INTERVENTION_STATUS'].astype('Int64')\n",
    "for col in ['MCC','CMG','COMORB_LVL','CIHI_FLG_INTERVENTION_STATUS','EVENT_CNT']: \n",
    "    df[col] = df[col].apply(str)\n",
    "cols = list(df.columns.values)\n",
    "cols = [x for x in cols if x !='ELOS']\n",
    "cols = ['ELOS']+cols\n",
    "df = df[cols]\n",
    "df.head(3)\n"
   ]
  },
  {
   "cell_type": "code",
   "execution_count": 204,
   "metadata": {},
   "outputs": [],
   "source": [
    "# # Review the y and see if it's very class imbalanced\n",
    "# # print(df['ELOS'].value_counts(normalize=True))\n",
    "\n",
    "# from matplotlib import pyplot as plt\n",
    "# plt.hist(df['ELOS'], edgecolor='black')\n",
    "\n",
    "# # it's very imbalanced"
   ]
  },
  {
   "cell_type": "markdown",
   "metadata": {},
   "source": [
    "# 3. Process Feature Columns and the Target Column"
   ]
  },
  {
   "cell_type": "markdown",
   "metadata": {},
   "source": [
    "# 3.2 Process the Feature Columns"
   ]
  },
  {
   "cell_type": "markdown",
   "metadata": {},
   "source": [
    "## 3.2.1 Examine - is there any categorial(object) columns in the feature columns"
   ]
  },
  {
   "cell_type": "code",
   "execution_count": 205,
   "metadata": {},
   "outputs": [
    {
     "data": {
      "text/plain": [
       "ADMITCAT                         object\n",
       "PROCOOH1                          Int64\n",
       "MCC                              object\n",
       "CMG                              object\n",
       "CMG_AGEGRP                       object\n",
       "COMORB_LVL                       object\n",
       "EVENT_CNT                        object\n",
       "RIW                             float64\n",
       "CIHI_FLG_INTERVENTION_STATUS     object\n",
       "AGE_CAT                          object\n",
       "dtype: object"
      ]
     },
     "metadata": {},
     "output_type": "display_data"
    },
    {
     "data": {
      "text/html": [
       "<div>\n",
       "<style scoped>\n",
       "    .dataframe tbody tr th:only-of-type {\n",
       "        vertical-align: middle;\n",
       "    }\n",
       "\n",
       "    .dataframe tbody tr th {\n",
       "        vertical-align: top;\n",
       "    }\n",
       "\n",
       "    .dataframe thead th {\n",
       "        text-align: right;\n",
       "    }\n",
       "</style>\n",
       "<table border=\"1\" class=\"dataframe\">\n",
       "  <thead>\n",
       "    <tr style=\"text-align: right;\">\n",
       "      <th></th>\n",
       "      <th>ADMITCAT</th>\n",
       "      <th>PROCOOH1</th>\n",
       "      <th>MCC</th>\n",
       "      <th>CMG</th>\n",
       "      <th>CMG_AGEGRP</th>\n",
       "      <th>COMORB_LVL</th>\n",
       "      <th>EVENT_CNT</th>\n",
       "      <th>RIW</th>\n",
       "      <th>CIHI_FLG_INTERVENTION_STATUS</th>\n",
       "      <th>AGE_CAT</th>\n",
       "    </tr>\n",
       "  </thead>\n",
       "  <tbody>\n",
       "    <tr>\n",
       "      <th>0</th>\n",
       "      <td>U</td>\n",
       "      <td>0</td>\n",
       "      <td>5</td>\n",
       "      <td>196</td>\n",
       "      <td>R</td>\n",
       "      <td>4</td>\n",
       "      <td>8</td>\n",
       "      <td>2.6451</td>\n",
       "      <td>0</td>\n",
       "      <td>18-59</td>\n",
       "    </tr>\n",
       "    <tr>\n",
       "      <th>1</th>\n",
       "      <td>U</td>\n",
       "      <td>0</td>\n",
       "      <td>13</td>\n",
       "      <td>561</td>\n",
       "      <td>R</td>\n",
       "      <td>2</td>\n",
       "      <td>1</td>\n",
       "      <td>1.4110</td>\n",
       "      <td>0</td>\n",
       "      <td>18-59</td>\n",
       "    </tr>\n",
       "    <tr>\n",
       "      <th>2</th>\n",
       "      <td>L</td>\n",
       "      <td>0</td>\n",
       "      <td>13</td>\n",
       "      <td>563</td>\n",
       "      <td>R</td>\n",
       "      <td>0</td>\n",
       "      <td>8</td>\n",
       "      <td>0.3963</td>\n",
       "      <td>0</td>\n",
       "      <td>18-59</td>\n",
       "    </tr>\n",
       "  </tbody>\n",
       "</table>\n",
       "</div>"
      ],
      "text/plain": [
       "  ADMITCAT  PROCOOH1 MCC  CMG CMG_AGEGRP COMORB_LVL EVENT_CNT     RIW  \\\n",
       "0        U         0   5  196          R          4         8  2.6451   \n",
       "1        U         0  13  561          R          2         1  1.4110   \n",
       "2        L         0  13  563          R          0         8  0.3963   \n",
       "\n",
       "  CIHI_FLG_INTERVENTION_STATUS AGE_CAT  \n",
       "0                            0   18-59  \n",
       "1                            0   18-59  \n",
       "2                            0   18-59  "
      ]
     },
     "metadata": {},
     "output_type": "display_data"
    }
   ],
   "source": [
    "\n",
    "\n",
    "# 3.2.1 Examine - is there any categorial(object) columns in the feature columns\n",
    "feature_df = df.copy().drop(['ELOS'], axis=1)\n",
    "display(feature_df.dtypes.head(10))\n",
    "display(feature_df.head(3))"
   ]
  },
  {
   "cell_type": "markdown",
   "metadata": {},
   "source": [
    "## 3.2.2 If there are some categorical(object) columns in the feature columns. Convert them to integer"
   ]
  },
  {
   "cell_type": "code",
   "execution_count": 206,
   "metadata": {},
   "outputs": [
    {
     "data": {
      "text/html": [
       "<div>\n",
       "<style scoped>\n",
       "    .dataframe tbody tr th:only-of-type {\n",
       "        vertical-align: middle;\n",
       "    }\n",
       "\n",
       "    .dataframe tbody tr th {\n",
       "        vertical-align: top;\n",
       "    }\n",
       "\n",
       "    .dataframe thead th {\n",
       "        text-align: right;\n",
       "    }\n",
       "</style>\n",
       "<table border=\"1\" class=\"dataframe\">\n",
       "  <thead>\n",
       "    <tr style=\"text-align: right;\">\n",
       "      <th></th>\n",
       "      <th>PROCOOH1</th>\n",
       "      <th>RIW</th>\n",
       "      <th>ADMITCAT_L</th>\n",
       "      <th>ADMITCAT_U</th>\n",
       "      <th>MCC_1</th>\n",
       "      <th>MCC_10</th>\n",
       "      <th>MCC_11</th>\n",
       "      <th>MCC_12</th>\n",
       "      <th>MCC_13</th>\n",
       "      <th>MCC_15</th>\n",
       "      <th>...</th>\n",
       "      <th>CIHI_FLG_INTERVENTION_STATUS_5</th>\n",
       "      <th>CIHI_FLG_INTERVENTION_STATUS_6</th>\n",
       "      <th>CIHI_FLG_INTERVENTION_STATUS_7</th>\n",
       "      <th>CIHI_FLG_INTERVENTION_STATUS_8</th>\n",
       "      <th>CIHI_FLG_INTERVENTION_STATUS_&lt;NA&gt;</th>\n",
       "      <th>AGE_CAT_1-7</th>\n",
       "      <th>AGE_CAT_18-59</th>\n",
       "      <th>AGE_CAT_60-79</th>\n",
       "      <th>AGE_CAT_8-17</th>\n",
       "      <th>AGE_CAT_80+</th>\n",
       "    </tr>\n",
       "  </thead>\n",
       "  <tbody>\n",
       "    <tr>\n",
       "      <th>0</th>\n",
       "      <td>0</td>\n",
       "      <td>2.6451</td>\n",
       "      <td>0</td>\n",
       "      <td>1</td>\n",
       "      <td>0</td>\n",
       "      <td>0</td>\n",
       "      <td>0</td>\n",
       "      <td>0</td>\n",
       "      <td>0</td>\n",
       "      <td>0</td>\n",
       "      <td>...</td>\n",
       "      <td>0</td>\n",
       "      <td>0</td>\n",
       "      <td>0</td>\n",
       "      <td>0</td>\n",
       "      <td>0</td>\n",
       "      <td>0</td>\n",
       "      <td>1</td>\n",
       "      <td>0</td>\n",
       "      <td>0</td>\n",
       "      <td>0</td>\n",
       "    </tr>\n",
       "  </tbody>\n",
       "</table>\n",
       "<p>1 rows × 539 columns</p>\n",
       "</div>"
      ],
      "text/plain": [
       "   PROCOOH1     RIW  ADMITCAT_L  ADMITCAT_U  MCC_1  MCC_10  MCC_11  MCC_12  \\\n",
       "0         0  2.6451           0           1      0       0       0       0   \n",
       "\n",
       "   MCC_13  MCC_15  ...  CIHI_FLG_INTERVENTION_STATUS_5  \\\n",
       "0       0       0  ...                               0   \n",
       "\n",
       "   CIHI_FLG_INTERVENTION_STATUS_6  CIHI_FLG_INTERVENTION_STATUS_7  \\\n",
       "0                               0                               0   \n",
       "\n",
       "   CIHI_FLG_INTERVENTION_STATUS_8  CIHI_FLG_INTERVENTION_STATUS_<NA>  \\\n",
       "0                               0                                  0   \n",
       "\n",
       "   AGE_CAT_1-7  AGE_CAT_18-59  AGE_CAT_60-79  AGE_CAT_8-17  AGE_CAT_80+  \n",
       "0            0              1              0             0            0  \n",
       "\n",
       "[1 rows x 539 columns]"
      ]
     },
     "metadata": {},
     "output_type": "display_data"
    }
   ],
   "source": [
    "# 3.2.2 If there are some categorical(object) columns in the feature columns. Convert them to integer\n",
    "string_cols = feature_df.dtypes[feature_df.dtypes == np.object]  # filtering by string categoricals\n",
    "string_cols = string_cols.index.tolist()  # list of categorical fields\n",
    "for col in string_cols:\n",
    "    feature_df[col] = pd.Categorical(feature_df[col])\n",
    "# Do the one hot encoding\n",
    "feature_df = pd.get_dummies(feature_df, columns=string_cols)\n",
    "display(feature_df.head(1))"
   ]
  },
  {
   "cell_type": "code",
   "execution_count": 207,
   "metadata": {},
   "outputs": [
    {
     "name": "stdout",
     "output_type": "stream",
     "text": [
      "PROCOOH1           Int64\n",
      "RIW              float64\n",
      "ADMITCAT_L         uint8\n",
      "ADMITCAT_U         uint8\n",
      "MCC_1              uint8\n",
      "                  ...   \n",
      "AGE_CAT_1-7        uint8\n",
      "AGE_CAT_18-59      uint8\n",
      "AGE_CAT_60-79      uint8\n",
      "AGE_CAT_8-17       uint8\n",
      "AGE_CAT_80+        uint8\n",
      "Length: 539, dtype: object\n"
     ]
    }
   ],
   "source": [
    "print(feature_df.dtypes)\n",
    "\n",
    "# for col in ['MCC','CMG','COMORB_LVL','CIHI_FLG_INTERVENTION_STATUS','EVENT_CNT']: \n",
    "#     df[col] = df[col].apply(str)"
   ]
  },
  {
   "cell_type": "markdown",
   "metadata": {},
   "source": [
    "## 3.2.3 Scale the Float Columns\n",
    "### 3.2.3.1 Use StandardScaler, MinMaxScaler, MaxAbsScaler"
   ]
  },
  {
   "cell_type": "code",
   "execution_count": 208,
   "metadata": {},
   "outputs": [
    {
     "name": "stdout",
     "output_type": "stream",
     "text": [
      "Index(['RIW'], dtype='object')\n"
     ]
    }
   ],
   "source": [
    "# df = pd.read_csv('C:\\\\Users\\\\LC\\\\KnowledgeBase\\\\Data\\\\Wine_Quality_Data.csv', sep=',')\n",
    "# feature_df = df.copy().drop(['ELOS'], axis=1)\n",
    "\n",
    "# 3.2.3.1 Scale the float column by StandardScaler, MinMaxScaler...etc. \n",
    "float_cols = feature_df.columns[feature_df.dtypes == np.float]  \n",
    "print(float_cols)\n",
    "\n",
    "from sklearn.preprocessing import StandardScaler, MinMaxScaler, MaxAbsScaler\n",
    "feature_df[float_cols]= StandardScaler().fit_transform(feature_df[float_cols])\n",
    "\n",
    "# alternatively if you want to transform all columns\n",
    "# df = StandardScaler().fit_transform(df)\n",
    "# df = pd.DataFrame(df, columns=df.columns)"
   ]
  },
  {
   "cell_type": "markdown",
   "metadata": {},
   "source": [
    "# 4. Split Data - train_test_split or StratifiedShuffleSplit"
   ]
  },
  {
   "cell_type": "markdown",
   "metadata": {},
   "source": [
    "## 4.1 train_test_split"
   ]
  },
  {
   "cell_type": "code",
   "execution_count": 209,
   "metadata": {},
   "outputs": [],
   "source": [
    "## 4.1 train_test_split\n",
    "X_data = feature_df\n",
    "X_data=np.asarray(X_data).astype(np.float32) \n",
    "y_data = df['ELOS'].values\n",
    "y_data=np.asarray(y_data).astype(np.float32)\n",
    "\n",
    "# import tensor\n",
    "# #Considering y variable holds numpy array\n",
    "# y_data = tensor.convert_to_tensor(y_data, dtype=tensor.int64) \n",
    "\n",
    "from sklearn.model_selection import train_test_split\n",
    "X_train,X_test,y_train,y_test=train_test_split(X_data, y_data, test_size=0.3, random_state=42)"
   ]
  },
  {
   "cell_type": "code",
   "execution_count": 210,
   "metadata": {},
   "outputs": [
    {
     "data": {
      "image/png": "[encoded data removed]",
      "text/plain": [
       "<Figure size 432x288 with 1 Axes>"
      ]
     },
     "metadata": {
      "needs_background": "light"
     },
     "output_type": "display_data"
    },
    {
     "name": "stdout",
     "output_type": "stream",
     "text": [
      "Best e value is 120\n",
      "[4.08840266 4.00621655 3.99196508]\n"
     ]
    }
   ],
   "source": [
    "### 2.2.1 Parameter Tuning - RandomForestRegressor - identify the best n_estimator\n",
    "from sklearn.ensemble import RandomForestRegressor\n",
    "from sklearn.model_selection import cross_val_score\n",
    "scores = []\n",
    "for e in range(10, 2000, 200): \n",
    "    R = RandomForestRegressor(n_estimators=e)\n",
    "    score = cross_val_score(R, X_train, y_train, cv=5, scoring = 'neg_mean_squared_error').mean()\n",
    "    scores.append(score)\n",
    "scores = -np.array(scores)\n"
   ]
  },
  {
   "cell_type": "code",
   "execution_count": 219,
   "metadata": {},
   "outputs": [
    {
     "data": {
      "image/png": "[encoded data removed]",
      "text/plain": [
       "<Figure size 432x288 with 1 Axes>"
      ]
     },
     "metadata": {
      "needs_background": "light"
     },
     "output_type": "display_data"
    },
    {
     "name": "stdout",
     "output_type": "stream",
     "text": [
      "Best e value is 180\n",
      "[4.08840266 4.00621655 3.99196508]\n"
     ]
    }
   ],
   "source": [
    "plt.plot(range(200, 2000, 200), scores)\n",
    "plt.title('MSE vs. Numbe of Estimators')\n",
    "plt.show()\n",
    "best_e =200* (int(np.argmin(scores)))+200\n",
    "print('Best e value is', best_e)\n",
    "print(scores)\n",
    "\n",
    "R = RandomForestRegressor(n_estimators=best_e)\n",
    "score = cross_val_score(R, X_train, y_train, cv=5, scoring = 'neg_mean_squared_error').mean()"
   ]
  },
  {
   "cell_type": "markdown",
   "metadata": {},
   "source": [
    "The number of hidden neurons should be between the size of the input layer and the size of the output layer. Or\n",
    "\n",
    "The number of hidden neurons should be 2/3 the size of the input layer, plus the size of the output layer. Or \n",
    "\n",
    "The number of hidden neurons should be less than twice the size of the input layer."
   ]
  },
  {
   "cell_type": "code",
   "execution_count": 211,
   "metadata": {},
   "outputs": [
    {
     "name": "stdout",
     "output_type": "stream",
     "text": [
      "539\n"
     ]
    }
   ],
   "source": [
    "print(X_train.shape[1])"
   ]
  },
  {
   "cell_type": "code",
   "execution_count": 212,
   "metadata": {},
   "outputs": [
    {
     "name": "stdout",
     "output_type": "stream",
     "text": [
      "2.4.1\n"
     ]
    }
   ],
   "source": [
    "### Tensorflow\n",
    "\n",
    "import tensorflow as tf\n",
    "\n",
    "from tensorflow import keras\n",
    "from tensorflow.keras import layers\n",
    "from tensorflow.keras.layers import Dense\n",
    "from tensorflow.keras.layers.experimental import preprocessing\n",
    "from tensorflow.keras.models import Sequential\n",
    "from tensorflow.keras.optimizers import Adam\n",
    "from tensorflow.keras.callbacks import EarlyStopping\n",
    "from tensorflow.keras.layers import Dropout\n",
    "\n",
    "\n",
    "print(tf.__version__)\n",
    "\n",
    "# model = Sequential()\n",
    "# model.add(Dense(X_train.shape[1]+1, input_shape=[X_train.shape[1]], kernel_initializer='normal', activation='relu'))\n",
    "# model.add(Dense(256, activation='relu'))\n",
    "# model.add(Dropout(0.25))\n",
    "# model.add(Dense(16, activation='relu'))\n",
    "# model.add(Dense(1, activation='linear'))  \n",
    "# model.summary()\n",
    "# model.compile(loss='mse', optimizer = Adam(learning_rate=0.1), metrics=['mse','mae']) #optimizer='rmsprop', #metrics='mae',\n",
    "# history=model.fit(X_train, y_train, epochs=50, batch_size=150, verbose=1, validation_split=0.2)\n",
    "# print(\"Final loss value:\",model.evaluate(X_test, y_test))\n",
    "# predictions = model.predict(X_train)"
   ]
  },
  {
   "cell_type": "code",
   "execution_count": 213,
   "metadata": {},
   "outputs": [
    {
     "data": {
      "image/png": "[encoded data removed]",
      "text/plain": [
       "<Figure size 432x288 with 1 Axes>"
      ]
     },
     "metadata": {
      "needs_background": "light"
     },
     "output_type": "display_data"
    }
   ],
   "source": [
    "from matplotlib import pyplot as plt\n",
    "plt.plot(history.history['mse'][5:])\n",
    "plt.plot(history.history['mae'][5:])\n",
    "plt.plot(history.history['val_loss'][5:])\n",
    "plt.plot(history.history['val_mae'][5:])\n",
    "plt.title('model accuracy')\n",
    "# plt.ylabel('accuracy')\n",
    "plt.xlabel('epoch')\n",
    "plt.legend(['mse', 'mae', 'val_loss', 'val_mae'], loc='upper left')\n",
    "plt.show()"
   ]
  },
  {
   "cell_type": "code",
   "execution_count": 214,
   "metadata": {},
   "outputs": [
    {
     "name": "stdout",
     "output_type": "stream",
     "text": [
      "(85989, 539)\n"
     ]
    }
   ],
   "source": [
    "print(feature_df.shape)"
   ]
  },
  {
   "cell_type": "code",
   "execution_count": 215,
   "metadata": {},
   "outputs": [
    {
     "name": "stdout",
     "output_type": "stream",
     "text": [
      "Model: \"sequential_36\"\n",
      "_________________________________________________________________\n",
      "Layer (type)                 Output Shape              Param #   \n",
      "=================================================================\n",
      "dense_107 (Dense)            (None, 540)               291600    \n",
      "_________________________________________________________________\n",
      "dropout_20 (Dropout)         (None, 540)               0         \n",
      "_________________________________________________________________\n",
      "dense_108 (Dense)            (None, 4096)              2215936   \n",
      "_________________________________________________________________\n",
      "dense_109 (Dense)            (None, 1)                 4097      \n",
      "=================================================================\n",
      "Total params: 2,511,633\n",
      "Trainable params: 2,511,633\n",
      "Non-trainable params: 0\n",
      "_________________________________________________________________\n",
      "Epoch 1/50\n",
      "377/377 [==============================] - 14s 35ms/step - loss: 265949.4617 - mse: 265949.4617 - mae: 67.2029 - val_loss: 10.3260 - val_mse: 10.3260 - val_mae: 1.4152\n",
      "Epoch 2/50\n",
      "377/377 [==============================] - 13s 34ms/step - loss: 19.1309 - mse: 19.1309 - mae: 1.7625 - val_loss: 8.1563 - val_mse: 8.1563 - val_mae: 1.1612\n",
      "Epoch 3/50\n",
      "377/377 [==============================] - 12s 33ms/step - loss: 11.5329 - mse: 11.5329 - mae: 1.5734 - val_loss: 6.3292 - val_mse: 6.3292 - val_mae: 1.0774\n",
      "Epoch 4/50\n",
      "377/377 [==============================] - 12s 33ms/step - loss: 9.7645 - mse: 9.7645 - mae: 1.5503 - val_loss: 6.5084 - val_mse: 6.5084 - val_mae: 1.0468\n",
      "Epoch 5/50\n",
      "377/377 [==============================] - 13s 35ms/step - loss: 9.0257 - mse: 9.0257 - mae: 1.4752 - val_loss: 5.5746 - val_mse: 5.5746 - val_mae: 1.1803\n",
      "Epoch 6/50\n",
      "377/377 [==============================] - 14s 36ms/step - loss: 7.8336 - mse: 7.8336 - mae: 1.4116 - val_loss: 5.7190 - val_mse: 5.7190 - val_mae: 1.0486\n",
      "Epoch 7/50\n",
      "377/377 [==============================] - 14s 36ms/step - loss: 6.9441 - mse: 6.9441 - mae: 1.3169 - val_loss: 5.8121 - val_mse: 5.8121 - val_mae: 1.1304\n",
      "Epoch 8/50\n",
      "377/377 [==============================] - 14s 36ms/step - loss: 6.5320 - mse: 6.5320 - mae: 1.3409 - val_loss: 10.1762 - val_mse: 10.1762 - val_mae: 1.6314\n",
      "Epoch 9/50\n",
      "377/377 [==============================] - 14s 37ms/step - loss: 7.1510 - mse: 7.1510 - mae: 1.3663 - val_loss: 5.1006 - val_mse: 5.1006 - val_mae: 1.0870\n",
      "Epoch 10/50\n",
      "377/377 [==============================] - 14s 37ms/step - loss: 8.3418 - mse: 8.3418 - mae: 1.5517 - val_loss: 6.2903 - val_mse: 6.2903 - val_mae: 1.3600\n",
      "Epoch 11/50\n",
      "377/377 [==============================] - 14s 36ms/step - loss: 5.9926 - mse: 5.9926 - mae: 1.3081 - val_loss: 4.4363 - val_mse: 4.4363 - val_mae: 0.9878\n",
      "Epoch 12/50\n",
      "377/377 [==============================] - 14s 36ms/step - loss: 6.2526 - mse: 6.2526 - mae: 1.3107 - val_loss: 5.1807 - val_mse: 5.1807 - val_mae: 1.3444\n",
      "Epoch 13/50\n",
      "377/377 [==============================] - 14s 37ms/step - loss: 7.0922 - mse: 7.0922 - mae: 1.4320 - val_loss: 5.2958 - val_mse: 5.2958 - val_mae: 1.2852\n",
      "Epoch 14/50\n",
      "377/377 [==============================] - 14s 37ms/step - loss: 5.7135 - mse: 5.7135 - mae: 1.2584 - val_loss: 44.9048 - val_mse: 44.9048 - val_mae: 5.4735\n",
      "Epoch 15/50\n",
      "377/377 [==============================] - 14s 37ms/step - loss: 13.2513 - mse: 13.2513 - mae: 2.0787 - val_loss: 8.9198 - val_mse: 8.9198 - val_mae: 1.5087\n",
      "Epoch 16/50\n",
      "377/377 [==============================] - 14s 37ms/step - loss: 8.0325 - mse: 8.0325 - mae: 1.5040 - val_loss: 4.3517 - val_mse: 4.3517 - val_mae: 0.9976\n",
      "Epoch 17/50\n",
      "377/377 [==============================] - 14s 37ms/step - loss: 6.4273 - mse: 6.4273 - mae: 1.3692 - val_loss: 4.8394 - val_mse: 4.8394 - val_mae: 1.0484\n",
      "Epoch 18/50\n",
      "377/377 [==============================] - 14s 37ms/step - loss: 7.3316 - mse: 7.3316 - mae: 1.4368 - val_loss: 4.0020 - val_mse: 4.0020 - val_mae: 0.9269\n",
      "Epoch 19/50\n",
      "377/377 [==============================] - 14s 36ms/step - loss: 6.0673 - mse: 6.0673 - mae: 1.3200 - val_loss: 4.2843 - val_mse: 4.2843 - val_mae: 0.9780\n",
      "Epoch 20/50\n",
      "377/377 [==============================] - 14s 37ms/step - loss: 6.3343 - mse: 6.3343 - mae: 1.3229 - val_loss: 4.5130 - val_mse: 4.5130 - val_mae: 1.0415\n",
      "Epoch 21/50\n",
      "377/377 [==============================] - 14s 37ms/step - loss: 7.5356 - mse: 7.5356 - mae: 1.4541 - val_loss: 5.0565 - val_mse: 5.0565 - val_mae: 1.1559\n",
      "Epoch 22/50\n",
      "377/377 [==============================] - 14s 37ms/step - loss: 6.8229 - mse: 6.8229 - mae: 1.4405 - val_loss: 4.5773 - val_mse: 4.5773 - val_mae: 1.0678\n",
      "Epoch 23/50\n",
      "377/377 [==============================] - 14s 37ms/step - loss: 6.1345 - mse: 6.1345 - mae: 1.3532 - val_loss: 4.5988 - val_mse: 4.5988 - val_mae: 1.0493\n",
      "Epoch 24/50\n",
      "377/377 [==============================] - 14s 37ms/step - loss: 5.8409 - mse: 5.8409 - mae: 1.3098 - val_loss: 7.8808 - val_mse: 7.8808 - val_mae: 1.5357\n",
      "Epoch 00024: early stopping\n",
      "807/807 [==============================] - 3s 3ms/step - loss: 7.8931 - mse: 7.8931 - mae: 1.5322\n",
      "Final loss value: [7.893083095550537, 7.893083095550537, 1.5322288274765015]\n"
     ]
    },
    {
     "data": {
      "text/plain": [
       "<matplotlib.legend.Legend at 0x193dd39b460>"
      ]
     },
     "execution_count": 215,
     "metadata": {},
     "output_type": "execute_result"
    },
    {
     "data": {
      "image/png": "[encoded data removed]",
      "text/plain": [
       "<Figure size 864x216 with 2 Axes>"
      ]
     },
     "metadata": {
      "needs_background": "light"
     },
     "output_type": "display_data"
    }
   ],
   "source": [
    "model = Sequential()\n",
    "model.add(Dense(X_train.shape[1]+1, \n",
    "                input_shape=[X_train.shape[1]], \n",
    "                kernel_initializer='normal', activation='relu'))\n",
    "model.add(Dropout(0.25))\n",
    "model.add(Dense(4096, activation='relu'))\n",
    "# model.add(Dropout(0.1))\n",
    "# model.add(Dense(128, activation='relu'))\n",
    "model.add(Dense(1, activation='linear'))  \n",
    "model.summary()\n",
    "model.compile(loss='mse', optimizer = Adam(learning_rate=0.1), metrics=['mse','mae']) #optimizer='rmsprop', #metrics='mae',\n",
    "early_stop = EarlyStopping(monitor='val_loss', \n",
    "#                            mode='min', \n",
    "                           verbose=1, patience=6)\n",
    "history=model.fit(X_train, y_train, epochs=50, batch_size=128, verbose=1, validation_split=0.2, callbacks=[early_stop])\n",
    "print(\"Final loss value:\",model.evaluate(X_test, y_test))\n",
    "# predictions = model.predict(X_train)\n",
    "\n",
    "from matplotlib import pyplot as plt\n",
    "n = 5\n",
    "fig = plt.figure(figsize = (12,3))\n",
    "plt.suptitle('MSE and MAE', fontsize = 15)\n",
    "ax1 = fig.add_subplot(121)\n",
    "plt.plot([i for i in range(n, len(history.history['mse']))], history.history['mse'][n:])\n",
    "plt.plot([i for i in range(n, len(history.history['mse']))], history.history['val_loss'][n:])\n",
    "plt.xlabel('epoch')\n",
    "plt.legend(['mse',  'val_loss'], loc='upper left')\n",
    "\n",
    "ax2 = fig.add_subplot(122)\n",
    "plt.plot([i for i in range(n, len(history.history['mse']))], history.history['mae'][n:])\n",
    "plt.plot([i for i in range(n, len(history.history['mse']))], history.history['val_mae'][n:])\n",
    "plt.xlabel('epoch')\n",
    "plt.legend(['mae',  'val_mae'], loc='upper left')"
   ]
  },
  {
   "cell_type": "code",
   "execution_count": 229,
   "metadata": {},
   "outputs": [
    {
     "name": "stdout",
     "output_type": "stream",
     "text": [
      "Saved model to disk\n",
      "done\n",
      "Loaded model from disk\n",
      "('mse', 7.893083095550537)\n"
     ]
    }
   ],
   "source": [
    "# serialize model to JSON\n",
    "model_json = model.to_json()\n",
    "with open(\"neural_model.json\", \"w\") as json_file:\n",
    "    json_file.write(model_json)\n",
    "# serialize weights to HDF5\n",
    "model.save_weights(\"neural_model.h5\")\n",
    "print(\"Saved model to disk\")\n",
    " \n",
    "\n",
    " \n",
    "# To load json and create model\n",
    "json_file = open('neural_model.json', 'r')\n",
    "loaded_model_json = json_file.read()\n",
    "json_file.close()\n",
    "print('done')\n",
    "\n",
    "from tensorflow.keras.models import model_from_json\n",
    "loaded_model = model_from_json(loaded_model_json)\n",
    "# load weights into new model\n",
    "loaded_model.load_weights(\"neural_model.h5\")\n",
    "print(\"Loaded model from disk\")\n",
    " \n",
    "# evaluate loaded model on test data\n",
    "loaded_model.compile(loss='binary_crossentropy', optimizer = Adam(learning_rate=0.1), metrics=['mse', 'mae'])  #optimizer = 'rmsprop'\n",
    "score = loaded_model.evaluate(X_test, y_test, verbose=0)\n",
    "print(loaded_model.metrics_names[1], score[1])"
   ]
  }
 ],
 "metadata": {
  "kernelspec": {
   "display_name": "Python 3",
   "language": "python",
   "name": "python3"
  },
  "language_info": {
   "codemirror_mode": {
    "name": "ipython",
    "version": 3
   },
   "file_extension": ".py",
   "mimetype": "text/x-python",
   "name": "python",
   "nbconvert_exporter": "python",
   "pygments_lexer": "ipython3",
   "version": "3.8.5"
  }
 },
 "nbformat": 4,
 "nbformat_minor": 2
}
